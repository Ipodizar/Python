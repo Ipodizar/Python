{
 "cells": [
  {
   "cell_type": "code",
   "execution_count": 35,
   "id": "901b6417",
   "metadata": {},
   "outputs": [],
   "source": [
    "# Tensor\n",
    "# 데이터를 저장하는 다차원 배열 또는 컨테이너\n",
    "# 딥러닝이 학습할 때 사용하는 자료구조\n",
    "# 0차원 텐서: 스칼라  25 - 단일 데이터\n",
    "# 1차원 텐서(벡터): 리스트 형탤  [1,2,3,4]\n",
    "# 2차원 텐서(행렬): 행과 열로 이루어진 데이터  표데이터, 흑백 이미지(가로픽셀 x 세로픽셀)\n",
    "# 3차원 텐서: 컬러이미지  흑백이미지 + 채널정보(R G B)\n",
    "# 고차원 텐서: 동영상(가로픽셀 x 세로픽셀 x 채널정보 x 이미지개수)\n",
    "\n",
    "# 데이터의 표준 형식: 일관된 숫자 형식\n",
    "# 효율적인 계산: GPU 지원 병렬 연산에 유리\n",
    "# 딥러닝 프레임워크: 텐서플로, 파이토치"
   ]
  },
  {
   "cell_type": "code",
   "execution_count": 59,
   "id": "21eb4149",
   "metadata": {},
   "outputs": [
    {
     "name": "stdout",
     "output_type": "stream",
     "text": [
      "Collecting tqdm\n",
      "  Using cached tqdm-4.67.1-py3-none-any.whl.metadata (57 kB)\n",
      "Requirement already satisfied: colorama in c:\\users\\ansck\\miniconda3\\envs\\deep\\lib\\site-packages (from tqdm) (0.4.6)\n",
      "Using cached tqdm-4.67.1-py3-none-any.whl (78 kB)\n",
      "Installing collected packages: tqdm\n",
      "Successfully installed tqdm-4.67.1\n",
      "Note: you may need to restart the kernel to use updated packages.\n"
     ]
    },
    {
     "name": "stderr",
     "output_type": "stream",
     "text": [
      "  WARNING: The script tqdm.exe is installed in 'c:\\Users\\ansck\\miniconda3\\envs\\deep\\Scripts' which is not on PATH.\n",
      "  Consider adding this directory to PATH or, if you prefer to suppress this warning, use --no-warn-script-location.\n"
     ]
    }
   ],
   "source": [
    "%pip install tqdm"
   ]
  },
  {
   "cell_type": "code",
   "execution_count": 36,
   "id": "305b9b2c",
   "metadata": {},
   "outputs": [
    {
     "name": "stdout",
     "output_type": "stream",
     "text": [
      "Requirement already satisfied: torch in c:\\users\\ansck\\miniconda3\\envs\\deep\\lib\\site-packages (2.5.1)\n",
      "Requirement already satisfied: torchvision in c:\\users\\ansck\\miniconda3\\envs\\deep\\lib\\site-packages (0.20.1)\n",
      "Requirement already satisfied: filelock in c:\\users\\ansck\\miniconda3\\envs\\deep\\lib\\site-packages (from torch) (3.17.0)\n",
      "Requirement already satisfied: typing-extensions>=4.8.0 in c:\\users\\ansck\\miniconda3\\envs\\deep\\lib\\site-packages (from torch) (4.15.0)\n",
      "Requirement already satisfied: sympy==1.13.1 in c:\\users\\ansck\\miniconda3\\envs\\deep\\lib\\site-packages (from torch) (1.13.1)\n",
      "Requirement already satisfied: networkx in c:\\users\\ansck\\miniconda3\\envs\\deep\\lib\\site-packages (from torch) (3.5)\n",
      "Requirement already satisfied: jinja2 in c:\\users\\ansck\\miniconda3\\envs\\deep\\lib\\site-packages (from torch) (3.1.6)\n",
      "Requirement already satisfied: fsspec in c:\\users\\ansck\\miniconda3\\envs\\deep\\lib\\site-packages (from torch) (2025.9.0)\n",
      "Requirement already satisfied: mpmath<1.4,>=1.1.0 in c:\\users\\ansck\\miniconda3\\envs\\deep\\lib\\site-packages (from sympy==1.13.1->torch) (1.3.0)\n",
      "Requirement already satisfied: numpy in c:\\users\\ansck\\miniconda3\\envs\\deep\\lib\\site-packages (from torchvision) (2.0.1)\n",
      "Requirement already satisfied: pillow!=8.3.*,>=5.3.0 in c:\\users\\ansck\\miniconda3\\envs\\deep\\lib\\site-packages (from torchvision) (11.0.0)\n",
      "Requirement already satisfied: MarkupSafe>=2.0 in c:\\users\\ansck\\miniconda3\\envs\\deep\\lib\\site-packages (from jinja2->torch) (3.0.2)\n",
      "Note: you may need to restart the kernel to use updated packages.\n"
     ]
    }
   ],
   "source": [
    "%pip install torch torchvision"
   ]
  },
  {
   "cell_type": "code",
   "execution_count": 37,
   "id": "d21c6242",
   "metadata": {},
   "outputs": [
    {
     "data": {
      "text/plain": [
       "tensor([[0.9725, 1.2421, 1.4293, 0.5142],\n",
       "        [0.7140, 1.1359, 1.0913, 0.7266],\n",
       "        [1.3909, 0.8701, 0.9620, 1.0556]])"
      ]
     },
     "execution_count": 37,
     "metadata": {},
     "output_type": "execute_result"
    }
   ],
   "source": [
    "# 기본연산\n",
    "import torch\n",
    "# 빈 텐서 생성\n",
    "x = torch.empty(3,4)\n",
    "x"
   ]
  },
  {
   "cell_type": "code",
   "execution_count": 38,
   "id": "bc745475",
   "metadata": {},
   "outputs": [
    {
     "data": {
      "text/plain": [
       "tensor([[0.0073, 0.6622, 0.2030, 0.5735],\n",
       "        [0.5680, 0.4523, 0.5440, 0.0972],\n",
       "        [0.7364, 0.5471, 0.1410, 0.3727]])"
      ]
     },
     "execution_count": 38,
     "metadata": {},
     "output_type": "execute_result"
    }
   ],
   "source": [
    "# 랜덤 텐서\n",
    "x = torch.rand(3,4)\n",
    "x"
   ]
  },
  {
   "cell_type": "code",
   "execution_count": 39,
   "id": "e9d0775d",
   "metadata": {},
   "outputs": [
    {
     "data": {
      "text/plain": [
       "tensor([[0, 0, 0, 0],\n",
       "        [0, 0, 0, 0],\n",
       "        [0, 0, 0, 0]])"
      ]
     },
     "execution_count": 39,
     "metadata": {},
     "output_type": "execute_result"
    }
   ],
   "source": [
    "# 0으로 탠서 초기화\n",
    "x = torch.zeros(3,4,dtype=torch.long)\n",
    "x"
   ]
  },
  {
   "cell_type": "code",
   "execution_count": 40,
   "id": "2a60d95a",
   "metadata": {},
   "outputs": [
    {
     "data": {
      "text/plain": [
       "tensor([[1, 1, 1, 1],\n",
       "        [1, 1, 1, 1],\n",
       "        [1, 1, 1, 1]])"
      ]
     },
     "execution_count": 40,
     "metadata": {},
     "output_type": "execute_result"
    }
   ],
   "source": [
    "# 1로 텐서 초기화\n",
    "x = torch.ones(3,4,dtype=torch.long)\n",
    "x"
   ]
  },
  {
   "cell_type": "code",
   "execution_count": 41,
   "id": "1ebddf6d",
   "metadata": {},
   "outputs": [
    {
     "name": "stdout",
     "output_type": "stream",
     "text": [
      "tensor([3.5000, 3.0000, 2.1000])\n",
      "[3.5 3.  2.1]\n"
     ]
    }
   ],
   "source": [
    "import numpy as np\n",
    "print(torch.tensor( [3.5, 3, 2.1]))\n",
    "print(np.array([3.5, 3, 2.1]))"
   ]
  },
  {
   "cell_type": "code",
   "execution_count": 42,
   "id": "f5764e00",
   "metadata": {},
   "outputs": [
    {
     "data": {
      "text/plain": [
       "(tensor([[1., 1., 1., 1.],\n",
       "         [1., 1., 1., 1.],\n",
       "         [1., 1., 1., 1.]]),\n",
       " tensor([[-1.0518, -0.2509,  1.2709,  0.0681],\n",
       "         [ 0.6888,  0.0158,  0.6733,  1.2359],\n",
       "         [ 1.2923,  0.2753,  0.7482, -0.6520]]))"
      ]
     },
     "execution_count": 42,
     "metadata": {},
     "output_type": "execute_result"
    }
   ],
   "source": [
    "# 기존의 텐서를 기반으로 새로운 텐서 생성\n",
    "x = torch.ones(3,4)\n",
    "y = torch.randn_like(x, dtype=torch.float)\n",
    "\n",
    "x,  y"
   ]
  },
  {
   "cell_type": "code",
   "execution_count": 43,
   "id": "c4ea7b29",
   "metadata": {},
   "outputs": [
    {
     "data": {
      "text/plain": [
       "(tensor([[0.4560, 0.8178, 0.4029, 0.7769],\n",
       "         [0.4978, 0.1590, 0.9172, 0.3857],\n",
       "         [0.7165, 0.1654, 0.3227, 0.0250]]),\n",
       " tensor([[0.3364, 0.8478, 0.4093, 0.0961],\n",
       "         [0.3513, 0.8275, 0.0479, 0.7244],\n",
       "         [0.1628, 0.7024, 0.0936, 0.5931]]),\n",
       " tensor([[0.7923, 1.6656, 0.8122, 0.8730],\n",
       "         [0.8492, 0.9864, 0.9651, 1.1101],\n",
       "         [0.8793, 0.8678, 0.4163, 0.6181]]))"
      ]
     },
     "execution_count": 43,
     "metadata": {},
     "output_type": "execute_result"
    }
   ],
   "source": [
    "import torch\n",
    "x = torch.rand(3,4)\n",
    "y = torch.rand(3,4)\n",
    "x, y, x + y"
   ]
  },
  {
   "cell_type": "code",
   "execution_count": 44,
   "id": "2362d166",
   "metadata": {},
   "outputs": [
    {
     "data": {
      "text/plain": [
       "tensor([[0.7923, 1.6656, 0.8122, 0.8730],\n",
       "        [0.8492, 0.9864, 0.9651, 1.1101],\n",
       "        [0.8793, 0.8678, 0.4163, 0.6181]])"
      ]
     },
     "execution_count": 44,
     "metadata": {},
     "output_type": "execute_result"
    }
   ],
   "source": [
    "torch.add(x,y)"
   ]
  },
  {
   "cell_type": "code",
   "execution_count": 45,
   "id": "4fc93460",
   "metadata": {},
   "outputs": [
    {
     "data": {
      "text/plain": [
       "tensor([[0.7923, 1.6656, 0.8122, 0.8730],\n",
       "        [0.8492, 0.9864, 0.9651, 1.1101],\n",
       "        [0.8793, 0.8678, 0.4163, 0.6181]])"
      ]
     },
     "execution_count": 45,
     "metadata": {},
     "output_type": "execute_result"
    }
   ],
   "source": [
    "# in-place y = y + x  y += x\n",
    "y.add_(x)\n",
    "y"
   ]
  },
  {
   "cell_type": "code",
   "execution_count": 46,
   "id": "96cb98ea",
   "metadata": {},
   "outputs": [
    {
     "data": {
      "text/plain": [
       "(tensor([[0.7500, 0.7578, 0.7995, 0.5957],\n",
       "         [0.2428, 0.8206, 0.7944, 0.5926],\n",
       "         [0.7715, 0.5030, 0.1308, 0.6991]]),\n",
       " tensor([[0.6929, 0.5744, 0.8088, 0.3028, 0.7455],\n",
       "         [0.1422, 0.3394, 0.5310, 0.1501, 0.5141],\n",
       "         [0.7088, 0.3250, 0.3796, 0.5964, 0.0962],\n",
       "         [0.6072, 0.5353, 0.3780, 0.1649, 0.8944]]),\n",
       " tensor([[1.5558, 1.2667, 1.5376, 0.9159, 1.5585],\n",
       "         [1.2078, 0.9934, 1.1577, 0.7682, 1.2094],\n",
       "         [1.1233, 1.0306, 1.2050, 0.5024, 1.4716]]),\n",
       " tensor([[1.5558, 1.2667, 1.5376, 0.9159, 1.5585],\n",
       "         [1.2078, 0.9934, 1.1577, 0.7682, 1.2094],\n",
       "         [1.1233, 1.0306, 1.2050, 0.5024, 1.4716]]))"
      ]
     },
     "execution_count": 46,
     "metadata": {},
     "output_type": "execute_result"
    }
   ],
   "source": [
    "# 행렬 곱셈\n",
    "x = torch.rand(3,4)\n",
    "y = torch.rand(4,5)\n",
    "x, y, torch.mm(x,y), x@y # 파이썬 3.5부터 @ 연산자 지원 x@y"
   ]
  },
  {
   "cell_type": "code",
   "execution_count": 47,
   "id": "c855cf63",
   "metadata": {},
   "outputs": [
    {
     "data": {
      "text/plain": [
       "(tensor(0.2578), 0.25779038667678833, torch.Tensor, float)"
      ]
     },
     "execution_count": 47,
     "metadata": {},
     "output_type": "execute_result"
    }
   ],
   "source": [
    "# 슬라이싱 가능\n",
    "x = torch.rand(4,5)\n",
    "x[1,1], x[1,1].item(), type(x[1,1]), type(x[1,1].item())"
   ]
  },
  {
   "cell_type": "code",
   "execution_count": 48,
   "id": "0048a2cd",
   "metadata": {},
   "outputs": [
    {
     "data": {
      "text/plain": [
       "(tensor([[0.4532, 0.8813, 0.7045, 0.5365],\n",
       "         [0.2977, 0.2831, 0.2278, 0.0838],\n",
       "         [0.9672, 0.2666, 0.6246, 0.2214],\n",
       "         [0.8099, 0.2306, 0.3959, 0.3169]]),\n",
       " tensor([0.4532, 0.8813, 0.7045, 0.5365, 0.2977, 0.2831, 0.2278, 0.0838, 0.9672,\n",
       "         0.2666, 0.6246, 0.2214, 0.8099, 0.2306, 0.3959, 0.3169]),\n",
       " torch.Size([4, 4]),\n",
       " torch.Size([16]))"
      ]
     },
     "execution_count": 48,
     "metadata": {},
     "output_type": "execute_result"
    }
   ],
   "source": [
    "# 텐서 크기 변경 reshape, view | numpy의 reshape과 동일\n",
    "x = torch.rand(4,4)\n",
    "y = x.view(-1) # 1차원 텐서로 변경 | `-1`은 자동으로 크기 계산\n",
    "x, y, x.shape, y.shape"
   ]
  },
  {
   "cell_type": "code",
   "execution_count": 49,
   "id": "ff06059a",
   "metadata": {},
   "outputs": [
    {
     "data": {
      "text/plain": [
       "(tensor([[0.4532, 0.8813, 0.7045, 0.5365, 0.2977, 0.2831, 0.2278, 0.0838],\n",
       "         [0.9672, 0.2666, 0.6246, 0.2214, 0.8099, 0.2306, 0.3959, 0.3169]]),\n",
       " torch.Size([4, 4]))"
      ]
     },
     "execution_count": 49,
     "metadata": {},
     "output_type": "execute_result"
    }
   ],
   "source": [
    "# x  4 by 4\n",
    "# view : numpy의 reshape와 동일 | 텐서 모양 변경\n",
    "# size : numpy의 shape와 동일 |  텐서 모양 확인\n",
    "# 가독성....view size 사용되었다는 것은 해당 자료구조가 텐서라는 것을 명시\n",
    "x.view(-1, 8), x.size() # "
   ]
  },
  {
   "cell_type": "code",
   "execution_count": 50,
   "id": "c9e82c5f",
   "metadata": {},
   "outputs": [
    {
     "data": {
      "text/plain": [
       "array([1., 1., 1., 1., 1.], dtype=float32)"
      ]
     },
     "execution_count": 50,
     "metadata": {},
     "output_type": "execute_result"
    }
   ],
   "source": [
    "# 텐서 -> 넘파이\n",
    "import torch\n",
    "import numpy as np\n",
    "a = torch.ones(5)\n",
    "a.numpy()"
   ]
  },
  {
   "cell_type": "code",
   "execution_count": 51,
   "id": "7f410e3a",
   "metadata": {},
   "outputs": [
    {
     "data": {
      "text/plain": [
       "tensor([1, 2, 3, 4, 5])"
      ]
     },
     "execution_count": 51,
     "metadata": {},
     "output_type": "execute_result"
    }
   ],
   "source": [
    "# 넘파이 -> 텐서\n",
    "import torch\n",
    "import numpy as np\n",
    "a = np.array([1,2,3,4,5])\n",
    "torch.from_numpy(a)"
   ]
  },
  {
   "cell_type": "code",
   "execution_count": 52,
   "id": "d20df37f",
   "metadata": {},
   "outputs": [
    {
     "data": {
      "text/plain": [
       "False"
      ]
     },
     "execution_count": 52,
     "metadata": {},
     "output_type": "execute_result"
    }
   ],
   "source": [
    "torch.cuda.is_available()"
   ]
  },
  {
   "cell_type": "code",
   "execution_count": 53,
   "id": "c8382f77",
   "metadata": {},
   "outputs": [
    {
     "name": "stdout",
     "output_type": "stream",
     "text": [
      "cuda 사용 불가\n"
     ]
    }
   ],
   "source": [
    "# GPU 사용\n",
    "import torch\n",
    "if torch.cuda.is_available():\n",
    "    device = torch.device('cuda') # GPU\n",
    "    # 텐서들은 gpu에서 연산해야되기 때문에 생성을 gpu에서 생성\n",
    "    x = torch.ones(5, device=device) # GPU에 텐서 생성\n",
    "    y = torch.ones(5) # CPU에 텐서 생성\n",
    "    y = y.to(device) # CPU -> GPU 이동\n",
    "    z = x + y\n",
    "    print(f\"GPU 연산 결과: {z}\")\n",
    "    print(f\"다시 CPU로 : {z.to('cpu', torch.double)}\")\n",
    "else:\n",
    "    print(\"cuda 사용 불가\")\n",
    "    device = torch.device('cpu')"
   ]
  },
  {
   "cell_type": "code",
   "execution_count": 54,
   "id": "e70dabde",
   "metadata": {},
   "outputs": [],
   "source": [
    "# 행렬의 곱\n",
    "# (x,y) * (x1, y1)\n",
    "# y , x1의 차수는 같아야 한다.\n",
    "# 행렬곱의 결과는 x, y1\n",
    "\n",
    "# 텐서는 딥러닝을 위해 만들 자료구조... 내부에 gpu 연산에 특화된 구조 일반적인 모양은 넘파이와 동일\n",
    "# 텐서는 gpu 연산을 지원"
   ]
  },
  {
   "cell_type": "code",
   "execution_count": 55,
   "id": "e1d9d0d5",
   "metadata": {},
   "outputs": [],
   "source": [
    "# 자동 미분(AutoGrad) 매 계산과정마다 행당 계산과정의 미분값을 저장\n",
    "# 파이토치 required_grad = True로 설정하면계산그래프라는 형태로 기록 - 동영상 녹화와 비슷한 원리\n",
    "# .backword() 호출하면 이 과정을 거꾸로 되감으면서 각 단계의 미분값을 계산해 최종 기울기를 얻는다."
   ]
  },
  {
   "cell_type": "code",
   "execution_count": 56,
   "id": "e01b2415",
   "metadata": {},
   "outputs": [
    {
     "data": {
      "text/plain": [
       "(tensor([[1., 1.],\n",
       "         [1., 1.]], requires_grad=True),\n",
       " torch.Size([2, 2]))"
      ]
     },
     "execution_count": 56,
     "metadata": {},
     "output_type": "execute_result"
    }
   ],
   "source": [
    "x = torch.ones(2,2, requires_grad=True)\n",
    "x, x.size()"
   ]
  },
  {
   "cell_type": "code",
   "execution_count": 57,
   "id": "cd0c8934",
   "metadata": {},
   "outputs": [
    {
     "name": "stdout",
     "output_type": "stream",
     "text": [
      "tensor([[3., 3.],\n",
      "        [3., 3.]], grad_fn=<AddBackward0>) <AddBackward0 object at 0x000002C59A59B910>\n"
     ]
    },
    {
     "data": {
      "text/plain": [
       "(tensor([[27., 27.],\n",
       "         [27., 27.]], grad_fn=<MulBackward0>),\n",
       " tensor(27., grad_fn=<MeanBackward0>))"
      ]
     },
     "execution_count": 57,
     "metadata": {},
     "output_type": "execute_result"
    }
   ],
   "source": [
    "y = x + 2   # y도 계산 그래프에 추가\n",
    "print(y, y.grad_fn)\n",
    "z = y*y*3\n",
    "out = z.mean()\n",
    "z, out"
   ]
  },
  {
   "cell_type": "code",
   "execution_count": null,
   "id": "48c5db8e",
   "metadata": {},
   "outputs": [
    {
     "data": {
      "text/plain": [
       "tensor([[4.5000, 4.5000],\n",
       "        [4.5000, 4.5000]])"
      ]
     },
     "execution_count": 58,
     "metadata": {},
     "output_type": "execute_result"
    }
   ],
   "source": [
    "# 기울기 구하는 과정을 역전파 --> 기울기를 계산\n",
    "# 최종결과가 out에서부터 시작해서 계산 그래프를 거꾸로 거슬러 올라가면서 미분의 연쇄법칙을 사용해서 미분값을 계산\n",
    "# out을 xp 대해서 미분\n",
    "out.backward()\n",
    "x.grad"
   ]
  },
  {
   "cell_type": "code",
   "execution_count": 61,
   "id": "be077129",
   "metadata": {},
   "outputs": [],
   "source": [
    "# out = 1/4 * (z1 + z2 + z3 + z4)\n",
    "# z = 3 * y^2\n",
    "# y = x + 2\n",
    "\n",
    "# d-out/d-xi = "
   ]
  },
  {
   "cell_type": "code",
   "execution_count": 83,
   "id": "094c1a4b",
   "metadata": {},
   "outputs": [
    {
     "name": "stdout",
     "output_type": "stream",
     "text": [
      "tensor([ 0.1731, -1.4559,  1.8271], requires_grad=True)\n",
      "y: tensor([  88.6112, -745.4291,  935.4893], grad_fn=<MulBackward0>)\n",
      "반복횟수: 8\n",
      "x.grad: tensor([5.1200e+01, 5.1200e+02, 5.1200e-02])\n"
     ]
    }
   ],
   "source": [
    "# 기울기 제어\n",
    "# 역전파, torch.no_gred(), detach\n",
    "# required_grad = True 연산 추적\n",
    "import torch\n",
    "x = torch.randn(3, requires_grad=True)\n",
    "print(x)\n",
    "# y는 x로부터 연산기록을 물려받음\n",
    "y = x * 2\n",
    "# 노름(유클리드 노름) 벡터의 크기를 측정하는 방법(원점으로부터 벡터까지의 거리)  모든 요소를 각각 제곱하고 모두 더해서 결과에 제곱근(루트)\n",
    "# y의 실제 데이터의 크기를 확인해서 반복\n",
    "i = 0\n",
    "while y.data.norm() < 1000:\n",
    "    y = y*2\n",
    "    i += 1\n",
    "print (f'y: {y}')\n",
    "print(f'반복횟수: {i}')\n",
    "\n",
    "# 벡터에 대한 역전파(야코비안 행렬)\n",
    "# 벡터를 벡터로 미분하면 결과는 행렬인 야코비안 행렬\n",
    "# pytorch는 전체 야코비안 행렬을 직접 계산하는 대신 야코비안 - 벡터 곱을 계산해서 메모리를 절약\n",
    "v = torch.tensor([0.1, 1.0, 0.0001], dtype=torch.float)\n",
    "y.backward(v) # y를 x에 대해 미분한 야코비안 행렬과 입력으로 제공된 벡터 v를 곱하라는 의미\n",
    "# vt•J = x.grad\n",
    "print(f'x.grad: {x.grad}')"
   ]
  },
  {
   "cell_type": "markdown",
   "id": "5cdb5bf4",
   "metadata": {},
   "source": [
    "```\n",
    "스칼라 백워드  Scalar Backward: 역전파로 구하는 기울기가 하나일 때\n",
    "out.backward()\n",
    "최종 점수가 숫자 하나    ex) 수학 공부 1시간 했을 때 최종 점수에 몇점에 영향을 줬는지\n",
    "최종 목표가 하나(스칼라)이기 때문에 각 원인(각 변수)의 기여도를 바로 계산\n",
    "\n",
    "벡터 백워드 Vector Backwar: 기울기가 여러개 일 때 \n",
    "y.backward(v)\n",
    "과목별(국영수) 점수가 담긴 성적표(벡터)     공부시간이 성적에 얼마나 영향을 줬는지 물어보면 애매함 국어성적? 영어성적?\n",
    "가중치 또는 중요도를 알려주는 벡터  v = torch.tensor([0.1, 1.0, 0.0001], dtype=torch.float)\n",
    "중요도를 반영해서 최종적으로 공부시간의 기여도를 확인\n",
    "```"
   ]
  },
  {
   "cell_type": "code",
   "execution_count": 85,
   "id": "04c0d45d",
   "metadata": {},
   "outputs": [
    {
     "name": "stdout",
     "output_type": "stream",
     "text": [
      "no_grad 내부: False\n",
      "detach 전 True\n",
      "detach 후 False\n"
     ]
    }
   ],
   "source": [
    "# 각 학습을 진행하면서 도중에 모델의 성능 평가가 필요 - 기울 기 계산을 하면 안됨\n",
    "with torch.no_grad():\n",
    "    print(f'no_grad 내부: {(x**2).requires_grad}')\n",
    "\n",
    "# .detach() 계산그래프 텐서를 분리\n",
    "print(f'detach 전 {y.requires_grad}')\n",
    "y = x.detach()\n",
    "print(f'detach 후 {y.requires_grad}')"
   ]
  }
 ],
 "metadata": {
  "kernelspec": {
   "display_name": "deep",
   "language": "python",
   "name": "python3"
  },
  "language_info": {
   "codemirror_mode": {
    "name": "ipython",
    "version": 3
   },
   "file_extension": ".py",
   "mimetype": "text/x-python",
   "name": "python",
   "nbconvert_exporter": "python",
   "pygments_lexer": "ipython3",
   "version": "3.11.13"
  }
 },
 "nbformat": 4,
 "nbformat_minor": 5
}
