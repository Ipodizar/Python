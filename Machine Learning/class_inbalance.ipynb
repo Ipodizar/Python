{
 "cells": [
  {
   "cell_type": "markdown",
   "id": "22a270d5",
   "metadata": {},
   "source": []
  },
  {
   "cell_type": "code",
   "execution_count": 15,
   "id": "21cf0bb2",
   "metadata": {},
   "outputs": [
    {
     "name": "stdout",
     "output_type": "stream",
     "text": [
      "악성 양성의 오리지널 비율 : (array([0, 1]), array([212, 357]))\n",
      "클래스 분포 : \n",
      "클래스 0 : 40개 ( 10.1%)\n",
      "클래스 1 : 357개 ( 89.9%)\n",
      "1. 기본 모델 (불균형 무시)\n",
      "              precision    recall  f1-score   support\n",
      "\n",
      "           0       1.00      1.00      1.00         8\n",
      "           1       1.00      1.00      1.00        72\n",
      "\n",
      "    accuracy                           1.00        80\n",
      "   macro avg       1.00      1.00      1.00        80\n",
      "weighted avg       1.00      1.00      1.00        80\n",
      "\n"
     ]
    }
   ],
   "source": [
    "# 불균형 데이터 생성(1:9)   악성 : 양성\n",
    "from typing import Concatenate\n",
    "from sklearn.datasets import load_breast_cancer\n",
    "import numpy as np\n",
    "data = load_breast_cancer()\n",
    "X, y = data.data, data.target\n",
    "# X : (샘플 수, 특성 수) 형태의 2차원 배열 (569 x 30)\n",
    "# y : 각 샘플의 정답 레이블(0=악성, 1=양성)인 1차원 배열 (길이 569)\n",
    "\n",
    "# 악성을 소수 클래스로 생성\n",
    "# 현재 클래스 분포 확인 \n",
    "# np.unique(y, return_counts=True)\n",
    "#  - y 안에 존재하는 고유값을 오름차순으로 반환(여기선 [0, 1])\n",
    "#  - 각 값이 몇 개 있는지도 같이 반환\n",
    "print(f'악성 양성의 오리지널 비율 : {np.unique(y, return_counts = True)}')\n",
    "# 예) [0 1] / [212 357]  → 악성 212, 양성 357\n",
    "# 클래스별 인덱스 뽑기\n",
    "# np.where(y == 0)[0]  : y 값이 0(악성)인 위치의 인덱스들\n",
    "# np.where(조건) 은 단순히 인덱스만 주는 게 아니라, 튜플(tuple) 형태로 결과를 반환\n",
    "# | 코드                    | 반환 타입   | 설명                                 |\n",
    "# | ---------------------  | ------- | ---------------------------------- |\n",
    "# | `np.where(y == 0)`     | tuple   | `(array([...]),)` 형태               |\n",
    "# | `np.where(y == 0)[0]`  | ndarray | `[인덱스, 인덱스, ...]` 형태 (실제 우리가 쓰는 것) |\n",
    "\n",
    "m_index = np.where(y==0)[0]    # index 반환 악성\n",
    "b_index = np.where(y==1)[0]\n",
    "\n",
    "# 악성은 일부만, 양성은 더 많이 사용\n",
    "# 악성의 30%만 사용, 양성은 전체  1:9\n",
    "size_30 = int(len(m_index)*0.19)\n",
    "selected_m_index = np.random.choice(m_index, size = size_30, replace = False)\n",
    "selected_b_index = b_index\n",
    "len(selected_m_index) + len(selected_b_index)\n",
    "\n",
    "concatenate_selected_index = np.concatenate([selected_m_index, selected_b_index])\n",
    "np.random.shuffle(concatenate_selected_index)\n",
    "\n",
    "X_imb = X[concatenate_selected_index]\n",
    "y_imb = y[concatenate_selected_index]\n",
    "\n",
    "# 클래스 분포 확인\n",
    "unique, counts = np.unique(y_imb, return_counts=True)\n",
    "print('클래스 분포 : ')\n",
    "for label, count in zip(unique, counts):\n",
    "    percentage = count / len(y_imb) * 100\n",
    "    print(f'클래스 {label} : {count}개 ({percentage : .1f}%)')\n",
    "\n",
    "# 불균형인 상태로 진행\n",
    "# 스케일링 정규화 StandardScaler\n",
    "# LogisticRegression\n",
    "# pipe\n",
    "# 평가는 class report\n",
    "\n",
    "from sklearn.preprocessing import StandardScaler\n",
    "from sklearn.linear_model import LogisticRegression\n",
    "from sklearn.model_selection import train_test_split\n",
    "from sklearn.metrics import classification_report\n",
    "from sklearn.pipeline import Pipeline, make_pipeline\n",
    "\n",
    "X_train, X_test, y_train, y_test = train_test_split(X_imb, y_imb, test_size = 0.2, random_state = 42, stratify=y_imb)\n",
    "print('1. 기본 모델 (불균형 무시)')\n",
    "pipe = Pipeline([\n",
    "    ('scaler', StandardScaler()),\n",
    "    ('clf', LogisticRegression(random_state = 42, max_iter=1000))\n",
    "])\n",
    "pipe.fit(X_train, y_train)\n",
    "print(classification_report(y_test, pipe.predict(X_test)))\n"
   ]
  },
  {
   "cell_type": "code",
   "execution_count": 16,
   "id": "53667632",
   "metadata": {},
   "outputs": [
    {
     "name": "stdout",
     "output_type": "stream",
     "text": [
      "불균형 해결 : 클래스 가중치 사용\n",
      "              precision    recall  f1-score   support\n",
      "\n",
      "           0       1.00      1.00      1.00         8\n",
      "           1       1.00      1.00      1.00        72\n",
      "\n",
      "    accuracy                           1.00        80\n",
      "   macro avg       1.00      1.00      1.00        80\n",
      "weighted avg       1.00      1.00      1.00        80\n",
      "\n",
      "가중치 계산\n",
      " 클래스 :0 : 4.953\n",
      " 클래스 :1 : 0.556\n"
     ]
    }
   ],
   "source": [
    "print('불균형 해결 : 클래스 가중치 사용')\n",
    "# 기존파이프라인의 clf 이름의 객체의 파라메터를 조정\n",
    "from copy import deepcopy\n",
    "pipe_weight = deepcopy(pipe)\n",
    "pipe_weight.set_params(clf__class_weight = 'balanced')\n",
    "\n",
    "# pipe_weight = Pipeline([\n",
    "#     ('scaler',StandardScaler()),\n",
    "#     ('clf', LogisticRegression(random_state=10,max_iter=1000,class_weight = 'balanced'))\n",
    "# ])\n",
    "\n",
    "\n",
    "pipe_weight.fit(X_train,y_train)\n",
    "print( classification_report(y_test, pipe_weight.predict(X_test)  )   )\n",
    "\n",
    "print(\"가중치 계산\")\n",
    "n_samples = len(y_train)\n",
    "n_classes = 2\n",
    "class_counts = np.bincount(y_train)\n",
    "for i in range(n_classes):\n",
    "    weight = n_samples / (n_classes * class_counts[i])\n",
    "    print(f' 클래스 :{i} : {weight:.3f}')   \n"
   ]
  },
  {
   "cell_type": "code",
   "execution_count": 17,
   "id": "c0523a52",
   "metadata": {},
   "outputs": [
    {
     "name": "stdout",
     "output_type": "stream",
     "text": [
      " 불균형 : RandomFores (균형모드)\n",
      "              precision    recall  f1-score   support\n",
      "\n",
      "           0       1.00      0.88      0.93         8\n",
      "           1       0.99      1.00      0.99        72\n",
      "\n",
      "    accuracy                           0.99        80\n",
      "   macro avg       0.99      0.94      0.96        80\n",
      "weighted avg       0.99      0.99      0.99        80\n",
      "\n"
     ]
    }
   ],
   "source": [
    "from sklearn.ensemble import RandomForestClassifier\n",
    "print(' 불균형 : RandomFores (균형모드)')\n",
    "pipe_rf = Pipeline([\n",
    "    ('scaler', StandardScaler()),\n",
    "    ('clf', RandomForestClassifier(class_weight='balanced',random_state=42))\n",
    "])\n",
    "pipe_rf.fit(X_train, y_train)\n",
    "y_pred = pipe_rf.predict(X_test)\n",
    "print( classification_report(y_test, y_pred) )"
   ]
  }
 ],
 "metadata": {
  "kernelspec": {
   "display_name": "base",
   "language": "python",
   "name": "python3"
  },
  "language_info": {
   "codemirror_mode": {
    "name": "ipython",
    "version": 3
   },
   "file_extension": ".py",
   "mimetype": "text/x-python",
   "name": "python",
   "nbconvert_exporter": "python",
   "pygments_lexer": "ipython3",
   "version": "3.13.5"
  }
 },
 "nbformat": 4,
 "nbformat_minor": 5
}
