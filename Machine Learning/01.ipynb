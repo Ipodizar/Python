{
 "cells": [
  {
   "cell_type": "code",
   "execution_count": null,
   "id": "5b318499",
   "metadata": {},
   "outputs": [],
   "source": [
    "# 데이터 전처리\n",
    "    # 결측치: 제거하거나 대처(평균 | 중위수 | 주면 데이터를 이용 등등등 다양한 알고리즘)\n",
    "    # 클래스 불균형: oversampling, undersampling   SMOTE SMOTEENN\n",
    "    # 이상치: 제거하거나 대처(평균 | 중위수 | 주면\n",
    "# 데이터 특성공학: 연속성 데이터 -> 범주형 데이터, 시간 정보\n",
    "    # 범주형 -> 숫자: 숫자 사이에 연관성이 있으면 이것도 학스버\n",
    "    # 연관성이 전혀 없느 ㄴ범주형 라벨링 - OneHotEncoding\n",
    "    # 범주형이지만 순서나 크기가 있는 범주형은 라벨링 그대로 유지\n",
    "\n",
    "# 머신 러닝\n",
    "# 지도학습\n",
    "    # 회귀\n",
    "        # LinearRegression, \n",
    "    # 분류\n",
    "        # SVM, Kneighbors, DecisionTree\n",
    "# 비지도학습\n",
    "    # 클러스트\n",
    "        # KMeans, dbscan"
   ]
  }
 ],
 "metadata": {
  "language_info": {
   "name": "python"
  }
 },
 "nbformat": 4,
 "nbformat_minor": 5
}
